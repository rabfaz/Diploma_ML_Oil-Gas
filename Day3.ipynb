{
 "cells": [
  {
   "cell_type": "markdown",
   "id": "7e7e451f",
   "metadata": {},
   "source": [
    "# Data Structure ( Holding large data & processing)"
   ]
  },
  {
   "cell_type": "markdown",
   "id": "79c76538",
   "metadata": {},
   "source": [
    "## Lists:"
   ]
  },
  {
   "cell_type": "markdown",
   "id": "d7e8b854",
   "metadata": {},
   "source": [
    "- Store multiple items in a single variable\n",
    "- Square brackets [] are used for creating lists, list()\n",
    "- Mutable (Can change length, elements, elements values)\n"
   ]
  },
  {
   "cell_type": "code",
   "execution_count": 1,
   "id": "b9df602d",
   "metadata": {},
   "outputs": [],
   "source": [
    "# list = []"
   ]
  },
  {
   "cell_type": "code",
   "execution_count": 2,
   "id": "490bf9d0",
   "metadata": {},
   "outputs": [],
   "source": [
    "perm = [ 12, 32, 45, 32, 12, 43, 21, 43]"
   ]
  },
  {
   "cell_type": "code",
   "execution_count": 3,
   "id": "2f985b0e",
   "metadata": {},
   "outputs": [
    {
     "data": {
      "text/plain": [
       "[12, 32, 45, 32, 12, 43, 21, 43]"
      ]
     },
     "execution_count": 3,
     "metadata": {},
     "output_type": "execute_result"
    }
   ],
   "source": [
    "perm"
   ]
  },
  {
   "cell_type": "code",
   "execution_count": 4,
   "id": "76b60b47",
   "metadata": {},
   "outputs": [
    {
     "data": {
      "text/plain": [
       "list"
      ]
     },
     "execution_count": 4,
     "metadata": {},
     "output_type": "execute_result"
    }
   ],
   "source": [
    "type (perm)"
   ]
  },
  {
   "cell_type": "code",
   "execution_count": 5,
   "id": "8cc52ff2",
   "metadata": {},
   "outputs": [],
   "source": [
    "li = [34,34,23,'saturation',True,6.7,[34,565,74,3,'str'],'jfdj']"
   ]
  },
  {
   "cell_type": "code",
   "execution_count": 6,
   "id": "a81f5968",
   "metadata": {},
   "outputs": [
    {
     "data": {
      "text/plain": [
       "[34, 34, 23, 'saturation', True, 6.7, [34, 565, 74, 3, 'str'], 'jfdj']"
      ]
     },
     "execution_count": 6,
     "metadata": {},
     "output_type": "execute_result"
    }
   ],
   "source": [
    "li"
   ]
  },
  {
   "cell_type": "markdown",
   "id": "9a766bc2",
   "metadata": {},
   "source": [
    "### Data extraction out of lists"
   ]
  },
  {
   "cell_type": "code",
   "execution_count": 7,
   "id": "a2a1ac68",
   "metadata": {},
   "outputs": [],
   "source": [
    "# index = Address of an element in a list"
   ]
  },
  {
   "cell_type": "code",
   "execution_count": 8,
   "id": "d90e9beb",
   "metadata": {},
   "outputs": [
    {
     "data": {
      "text/plain": [
       "[12, 32, 45, 32, 12, 43, 21, 43]"
      ]
     },
     "execution_count": 8,
     "metadata": {},
     "output_type": "execute_result"
    }
   ],
   "source": [
    "perm"
   ]
  },
  {
   "cell_type": "code",
   "execution_count": 9,
   "id": "dce8c494",
   "metadata": {},
   "outputs": [
    {
     "data": {
      "text/plain": [
       "43"
      ]
     },
     "execution_count": 9,
     "metadata": {},
     "output_type": "execute_result"
    }
   ],
   "source": [
    "perm[5]"
   ]
  },
  {
   "cell_type": "code",
   "execution_count": 10,
   "id": "28f839f9",
   "metadata": {},
   "outputs": [
    {
     "data": {
      "text/plain": [
       "[34, 34, 23, 'saturation', True, 6.7, [34, 565, 74, 3, 'str'], 'jfdj']"
      ]
     },
     "execution_count": 10,
     "metadata": {},
     "output_type": "execute_result"
    }
   ],
   "source": [
    "li"
   ]
  },
  {
   "cell_type": "code",
   "execution_count": 11,
   "id": "eb12bbbd",
   "metadata": {},
   "outputs": [
    {
     "data": {
      "text/plain": [
       "'saturation'"
      ]
     },
     "execution_count": 11,
     "metadata": {},
     "output_type": "execute_result"
    }
   ],
   "source": [
    "li[3]"
   ]
  },
  {
   "cell_type": "code",
   "execution_count": 12,
   "id": "7c69067e",
   "metadata": {},
   "outputs": [
    {
     "data": {
      "text/plain": [
       "[34, 565, 74, 3, 'str']"
      ]
     },
     "execution_count": 12,
     "metadata": {},
     "output_type": "execute_result"
    }
   ],
   "source": [
    "li[6]"
   ]
  },
  {
   "cell_type": "code",
   "execution_count": 13,
   "id": "5afe4d58",
   "metadata": {},
   "outputs": [
    {
     "data": {
      "text/plain": [
       "74"
      ]
     },
     "execution_count": 13,
     "metadata": {},
     "output_type": "execute_result"
    }
   ],
   "source": [
    "li[6][2]"
   ]
  },
  {
   "cell_type": "code",
   "execution_count": 14,
   "id": "7f64aa06",
   "metadata": {},
   "outputs": [
    {
     "data": {
      "text/plain": [
       "'str'"
      ]
     },
     "execution_count": 14,
     "metadata": {},
     "output_type": "execute_result"
    }
   ],
   "source": [
    "li[6][4]"
   ]
  },
  {
   "cell_type": "code",
   "execution_count": 15,
   "id": "8a0fe41d",
   "metadata": {},
   "outputs": [],
   "source": [
    "li = [34,34,23,'saturation',True,6.7,[34,565,74,[98695,545,'ghery',[\"getme\"],345,34],3,'str'],'jfdj']"
   ]
  },
  {
   "cell_type": "code",
   "execution_count": 18,
   "id": "f18f5839",
   "metadata": {},
   "outputs": [
    {
     "data": {
      "text/plain": [
       "['getme']"
      ]
     },
     "execution_count": 18,
     "metadata": {},
     "output_type": "execute_result"
    }
   ],
   "source": [
    "li[6][3][3]"
   ]
  },
  {
   "cell_type": "code",
   "execution_count": 19,
   "id": "de682744",
   "metadata": {},
   "outputs": [
    {
     "data": {
      "text/plain": [
       "list"
      ]
     },
     "execution_count": 19,
     "metadata": {},
     "output_type": "execute_result"
    }
   ],
   "source": [
    "type(li[6][3][3])"
   ]
  },
  {
   "cell_type": "code",
   "execution_count": 20,
   "id": "6b774e4d",
   "metadata": {},
   "outputs": [
    {
     "data": {
      "text/plain": [
       "'getme'"
      ]
     },
     "execution_count": 20,
     "metadata": {},
     "output_type": "execute_result"
    }
   ],
   "source": [
    "li[6][3][3][0]"
   ]
  },
  {
   "cell_type": "code",
   "execution_count": 21,
   "id": "cf66e398",
   "metadata": {},
   "outputs": [
    {
     "data": {
      "text/plain": [
       "[34,\n",
       " 34,\n",
       " 23,\n",
       " 'saturation',\n",
       " True,\n",
       " 6.7,\n",
       " [34, 565, 74, [98695, 545, 'ghery', ['getme'], 345, 34], 3, 'str'],\n",
       " 'jfdj']"
      ]
     },
     "execution_count": 21,
     "metadata": {},
     "output_type": "execute_result"
    }
   ],
   "source": [
    "li"
   ]
  },
  {
   "cell_type": "code",
   "execution_count": 22,
   "id": "a2d17eee",
   "metadata": {},
   "outputs": [
    {
     "data": {
      "text/plain": [
       "[12, 32, 45, 32, 12, 43, 21, 43]"
      ]
     },
     "execution_count": 22,
     "metadata": {},
     "output_type": "execute_result"
    }
   ],
   "source": [
    "perm"
   ]
  },
  {
   "cell_type": "code",
   "execution_count": 23,
   "id": "fd2ae389",
   "metadata": {},
   "outputs": [
    {
     "data": {
      "text/plain": [
       "8"
      ]
     },
     "execution_count": 23,
     "metadata": {},
     "output_type": "execute_result"
    }
   ],
   "source": [
    "len(perm)"
   ]
  },
  {
   "cell_type": "code",
   "execution_count": 24,
   "id": "5ffba861",
   "metadata": {},
   "outputs": [
    {
     "data": {
      "text/plain": [
       "43"
      ]
     },
     "execution_count": 24,
     "metadata": {},
     "output_type": "execute_result"
    }
   ],
   "source": [
    "perm[7]"
   ]
  },
  {
   "cell_type": "code",
   "execution_count": 25,
   "id": "b6faac27",
   "metadata": {},
   "outputs": [
    {
     "ename": "IndexError",
     "evalue": "list index out of range",
     "output_type": "error",
     "traceback": [
      "\u001b[1;31m---------------------------------------------------------------------------\u001b[0m",
      "\u001b[1;31mIndexError\u001b[0m                                Traceback (most recent call last)",
      "Cell \u001b[1;32mIn[25], line 1\u001b[0m\n\u001b[1;32m----> 1\u001b[0m perm[\u001b[38;5;241m8\u001b[39m]\n",
      "\u001b[1;31mIndexError\u001b[0m: list index out of range"
     ]
    }
   ],
   "source": [
    "perm[8]"
   ]
  },
  {
   "cell_type": "code",
   "execution_count": 26,
   "id": "11721237",
   "metadata": {},
   "outputs": [
    {
     "data": {
      "text/plain": [
       "[12, 32, 45, 32, 12, 43, 21, 43]"
      ]
     },
     "execution_count": 26,
     "metadata": {},
     "output_type": "execute_result"
    }
   ],
   "source": [
    "perm"
   ]
  },
  {
   "cell_type": "code",
   "execution_count": 27,
   "id": "58f4c437",
   "metadata": {},
   "outputs": [
    {
     "data": {
      "text/plain": [
       "43"
      ]
     },
     "execution_count": 27,
     "metadata": {},
     "output_type": "execute_result"
    }
   ],
   "source": [
    "perm[-1]"
   ]
  },
  {
   "cell_type": "code",
   "execution_count": 29,
   "id": "c1c1a543",
   "metadata": {},
   "outputs": [
    {
     "data": {
      "text/plain": [
       "32"
      ]
     },
     "execution_count": 29,
     "metadata": {},
     "output_type": "execute_result"
    }
   ],
   "source": [
    "perm[3]"
   ]
  },
  {
   "cell_type": "code",
   "execution_count": 30,
   "id": "82746d65",
   "metadata": {},
   "outputs": [
    {
     "data": {
      "text/plain": [
       "32"
      ]
     },
     "execution_count": 30,
     "metadata": {},
     "output_type": "execute_result"
    }
   ],
   "source": [
    "perm[-5]"
   ]
  },
  {
   "cell_type": "code",
   "execution_count": 31,
   "id": "dee0979d",
   "metadata": {},
   "outputs": [
    {
     "data": {
      "text/plain": [
       "True"
      ]
     },
     "execution_count": 31,
     "metadata": {},
     "output_type": "execute_result"
    }
   ],
   "source": [
    "perm[3]==perm[-5]"
   ]
  },
  {
   "cell_type": "code",
   "execution_count": 32,
   "id": "62923ea8",
   "metadata": {},
   "outputs": [],
   "source": [
    "# Mutable"
   ]
  },
  {
   "cell_type": "code",
   "execution_count": 33,
   "id": "7e38bf82",
   "metadata": {},
   "outputs": [
    {
     "data": {
      "text/plain": [
       "[12, 32, 45, 32, 12, 43, 21, 43]"
      ]
     },
     "execution_count": 33,
     "metadata": {},
     "output_type": "execute_result"
    }
   ],
   "source": [
    "perm"
   ]
  },
  {
   "cell_type": "code",
   "execution_count": 34,
   "id": "182ae6f6",
   "metadata": {},
   "outputs": [],
   "source": [
    "perm[2] = 54"
   ]
  },
  {
   "cell_type": "code",
   "execution_count": 35,
   "id": "dece5cb4",
   "metadata": {},
   "outputs": [
    {
     "data": {
      "text/plain": [
       "[12, 32, 54, 32, 12, 43, 21, 43]"
      ]
     },
     "execution_count": 35,
     "metadata": {},
     "output_type": "execute_result"
    }
   ],
   "source": [
    "perm"
   ]
  },
  {
   "cell_type": "code",
   "execution_count": 36,
   "id": "96548e83",
   "metadata": {},
   "outputs": [],
   "source": [
    "# Append : Adding element at the end of the list"
   ]
  },
  {
   "cell_type": "code",
   "execution_count": 38,
   "id": "c12a85c1",
   "metadata": {},
   "outputs": [
    {
     "data": {
      "text/plain": [
       "[12, 32, 54, 32, 12, 43, 21, 43]"
      ]
     },
     "execution_count": 38,
     "metadata": {},
     "output_type": "execute_result"
    }
   ],
   "source": [
    "perm"
   ]
  },
  {
   "cell_type": "code",
   "execution_count": 39,
   "id": "d23fc011",
   "metadata": {},
   "outputs": [],
   "source": [
    "perm.append(99)"
   ]
  },
  {
   "cell_type": "code",
   "execution_count": 40,
   "id": "1875e1e9",
   "metadata": {},
   "outputs": [
    {
     "data": {
      "text/plain": [
       "[12, 32, 54, 32, 12, 43, 21, 43, 99]"
      ]
     },
     "execution_count": 40,
     "metadata": {},
     "output_type": "execute_result"
    }
   ],
   "source": [
    "perm"
   ]
  },
  {
   "cell_type": "markdown",
   "id": "5d812f08",
   "metadata": {},
   "source": [
    "## Slicing : Accessing more then one data"
   ]
  },
  {
   "cell_type": "markdown",
   "id": "fc5b0ac6",
   "metadata": {},
   "source": [
    "### List[start:stop:step]"
   ]
  },
  {
   "cell_type": "markdown",
   "id": "41aa8104",
   "metadata": {},
   "source": [
    "- Element at stopping index will be excluded from your slice"
   ]
  },
  {
   "cell_type": "code",
   "execution_count": 42,
   "id": "b0e87f12",
   "metadata": {},
   "outputs": [
    {
     "data": {
      "text/plain": [
       "[12, 32, 54, 32, 12, 43, 21, 43, 99]"
      ]
     },
     "execution_count": 42,
     "metadata": {},
     "output_type": "execute_result"
    }
   ],
   "source": [
    "perm"
   ]
  },
  {
   "cell_type": "code",
   "execution_count": 43,
   "id": "52774560",
   "metadata": {},
   "outputs": [
    {
     "data": {
      "text/plain": [
       "[32, 54, 32, 12]"
      ]
     },
     "execution_count": 43,
     "metadata": {},
     "output_type": "execute_result"
    }
   ],
   "source": [
    "perm[1:5]"
   ]
  },
  {
   "cell_type": "code",
   "execution_count": 44,
   "id": "7f8c44b5",
   "metadata": {},
   "outputs": [
    {
     "data": {
      "text/plain": [
       "[54, 32, 12, 43, 21]"
      ]
     },
     "execution_count": 44,
     "metadata": {},
     "output_type": "execute_result"
    }
   ],
   "source": [
    "perm[2:7]"
   ]
  },
  {
   "cell_type": "code",
   "execution_count": 45,
   "id": "7109c064",
   "metadata": {},
   "outputs": [
    {
     "data": {
      "text/plain": [
       "[32, 54, 32, 12, 43, 21, 43, 99]"
      ]
     },
     "execution_count": 45,
     "metadata": {},
     "output_type": "execute_result"
    }
   ],
   "source": [
    "perm[1:100]"
   ]
  },
  {
   "cell_type": "code",
   "execution_count": 46,
   "id": "9f7c1968",
   "metadata": {},
   "outputs": [
    {
     "data": {
      "text/plain": [
       "[32, 54, 32, 12, 43, 21, 43, 99]"
      ]
     },
     "execution_count": 46,
     "metadata": {},
     "output_type": "execute_result"
    }
   ],
   "source": [
    "perm[1:]"
   ]
  },
  {
   "cell_type": "code",
   "execution_count": 47,
   "id": "6bf2e22e",
   "metadata": {},
   "outputs": [
    {
     "data": {
      "text/plain": [
       "[12, 32, 54, 32]"
      ]
     },
     "execution_count": 47,
     "metadata": {},
     "output_type": "execute_result"
    }
   ],
   "source": [
    "perm[:4]"
   ]
  },
  {
   "cell_type": "code",
   "execution_count": 48,
   "id": "d893b4e3",
   "metadata": {},
   "outputs": [
    {
     "data": {
      "text/plain": [
       "[12, 32, 54]"
      ]
     },
     "execution_count": 48,
     "metadata": {},
     "output_type": "execute_result"
    }
   ],
   "source": [
    "perm[:3]"
   ]
  },
  {
   "cell_type": "code",
   "execution_count": 49,
   "id": "e05af42c",
   "metadata": {},
   "outputs": [
    {
     "data": {
      "text/plain": [
       "[12, 32, 54, 32, 12, 43, 21, 43, 99]"
      ]
     },
     "execution_count": 49,
     "metadata": {},
     "output_type": "execute_result"
    }
   ],
   "source": [
    "perm"
   ]
  },
  {
   "cell_type": "code",
   "execution_count": 50,
   "id": "815a35aa",
   "metadata": {},
   "outputs": [
    {
     "data": {
      "text/plain": [
       "[12, 54, 12, 21, 99]"
      ]
     },
     "execution_count": 50,
     "metadata": {},
     "output_type": "execute_result"
    }
   ],
   "source": [
    "perm[::2]"
   ]
  },
  {
   "cell_type": "code",
   "execution_count": 51,
   "id": "06986757",
   "metadata": {},
   "outputs": [],
   "source": [
    "perm.append(87)"
   ]
  },
  {
   "cell_type": "code",
   "execution_count": 52,
   "id": "91030bb6",
   "metadata": {},
   "outputs": [
    {
     "data": {
      "text/plain": [
       "10"
      ]
     },
     "execution_count": 52,
     "metadata": {},
     "output_type": "execute_result"
    }
   ],
   "source": [
    "len(perm)"
   ]
  },
  {
   "cell_type": "code",
   "execution_count": 53,
   "id": "14ef2a34",
   "metadata": {},
   "outputs": [
    {
     "data": {
      "text/plain": [
       "[12, 32, 54, 32, 12, 43, 21, 43, 99, 87]"
      ]
     },
     "execution_count": 53,
     "metadata": {},
     "output_type": "execute_result"
    }
   ],
   "source": [
    "perm"
   ]
  },
  {
   "cell_type": "code",
   "execution_count": 54,
   "id": "62ff496b",
   "metadata": {},
   "outputs": [
    {
     "data": {
      "text/plain": [
       "[12, 32, 54, 32, 12, 43, 21, 43, 99, 87]"
      ]
     },
     "execution_count": 54,
     "metadata": {},
     "output_type": "execute_result"
    }
   ],
   "source": [
    "perm[:]"
   ]
  },
  {
   "cell_type": "code",
   "execution_count": 55,
   "id": "3bde734e",
   "metadata": {},
   "outputs": [
    {
     "data": {
      "text/plain": [
       "[32, 32, 43, 43, 87]"
      ]
     },
     "execution_count": 55,
     "metadata": {},
     "output_type": "execute_result"
    }
   ],
   "source": [
    "perm[1::2]"
   ]
  },
  {
   "cell_type": "code",
   "execution_count": 56,
   "id": "dce2a87b",
   "metadata": {},
   "outputs": [
    {
     "data": {
      "text/plain": [
       "[32, 43, 87]"
      ]
     },
     "execution_count": 56,
     "metadata": {},
     "output_type": "execute_result"
    }
   ],
   "source": [
    "perm[1::4]"
   ]
  },
  {
   "cell_type": "code",
   "execution_count": 57,
   "id": "f1c21ec2",
   "metadata": {},
   "outputs": [
    {
     "data": {
      "text/plain": [
       "[12, 32, 54, 32, 12, 43, 21, 43, 99, 87]"
      ]
     },
     "execution_count": 57,
     "metadata": {},
     "output_type": "execute_result"
    }
   ],
   "source": [
    "perm"
   ]
  },
  {
   "cell_type": "code",
   "execution_count": 58,
   "id": "9b966186",
   "metadata": {},
   "outputs": [
    {
     "data": {
      "text/plain": [
       "[32, 12]"
      ]
     },
     "execution_count": 58,
     "metadata": {},
     "output_type": "execute_result"
    }
   ],
   "source": [
    "perm[1:5:3]"
   ]
  },
  {
   "cell_type": "code",
   "execution_count": 59,
   "id": "fedadbbf",
   "metadata": {},
   "outputs": [
    {
     "data": {
      "text/plain": [
       "[12, 32, 54, 32, 12, 43, 21, 43, 99, 87]"
      ]
     },
     "execution_count": 59,
     "metadata": {},
     "output_type": "execute_result"
    }
   ],
   "source": [
    "perm"
   ]
  },
  {
   "cell_type": "code",
   "execution_count": 60,
   "id": "942f2fd6",
   "metadata": {},
   "outputs": [
    {
     "data": {
      "text/plain": [
       "[43, 21, 43]"
      ]
     },
     "execution_count": 60,
     "metadata": {},
     "output_type": "execute_result"
    }
   ],
   "source": [
    "perm[5:-2]"
   ]
  },
  {
   "cell_type": "code",
   "execution_count": 61,
   "id": "f89bc4bf",
   "metadata": {},
   "outputs": [
    {
     "data": {
      "text/plain": [
       "[87, 99, 43, 21, 43, 12, 32, 54, 32, 12]"
      ]
     },
     "execution_count": 61,
     "metadata": {},
     "output_type": "execute_result"
    }
   ],
   "source": [
    "perm[::-1]"
   ]
  },
  {
   "cell_type": "code",
   "execution_count": 62,
   "id": "75565734",
   "metadata": {},
   "outputs": [
    {
     "data": {
      "text/plain": [
       "[12, 32, 54, 32, 12, 43, 21, 43, 99, 87]"
      ]
     },
     "execution_count": 62,
     "metadata": {},
     "output_type": "execute_result"
    }
   ],
   "source": [
    "perm"
   ]
  },
  {
   "cell_type": "code",
   "execution_count": 63,
   "id": "bb51f480",
   "metadata": {},
   "outputs": [
    {
     "data": {
      "text/plain": [
       "[]"
      ]
     },
     "execution_count": 63,
     "metadata": {},
     "output_type": "execute_result"
    }
   ],
   "source": [
    "perm[2:6:-1]"
   ]
  },
  {
   "cell_type": "code",
   "execution_count": 66,
   "id": "072d6801",
   "metadata": {},
   "outputs": [
    {
     "data": {
      "text/plain": [
       "[21, 43, 12, 32]"
      ]
     },
     "execution_count": 66,
     "metadata": {},
     "output_type": "execute_result"
    }
   ],
   "source": [
    "perm[6:2:-1]"
   ]
  },
  {
   "cell_type": "code",
   "execution_count": 67,
   "id": "783deeb5",
   "metadata": {},
   "outputs": [
    {
     "data": {
      "text/plain": [
       "[12, 32, 54, 32, 12, 43, 21, 43, 99, 87]"
      ]
     },
     "execution_count": 67,
     "metadata": {},
     "output_type": "execute_result"
    }
   ],
   "source": [
    "perm"
   ]
  },
  {
   "cell_type": "code",
   "execution_count": 68,
   "id": "0dbf9505",
   "metadata": {},
   "outputs": [
    {
     "data": {
      "text/plain": [
       "[87, 99, 43, 21, 43, 12, 32, 54, 32]"
      ]
     },
     "execution_count": 68,
     "metadata": {},
     "output_type": "execute_result"
    }
   ],
   "source": [
    "perm[-1:0:-1]"
   ]
  },
  {
   "cell_type": "code",
   "execution_count": 69,
   "id": "e0d5769b",
   "metadata": {},
   "outputs": [
    {
     "data": {
      "text/plain": [
       "[12, 32, 54, 32, 12, 43, 21, 43, 99, 87]"
      ]
     },
     "execution_count": 69,
     "metadata": {},
     "output_type": "execute_result"
    }
   ],
   "source": [
    "perm"
   ]
  },
  {
   "cell_type": "code",
   "execution_count": 70,
   "id": "748d49db",
   "metadata": {},
   "outputs": [
    {
     "data": {
      "text/plain": [
       "[99, 43, 54]"
      ]
     },
     "execution_count": 70,
     "metadata": {},
     "output_type": "execute_result"
    }
   ],
   "source": [
    "perm[-2:1:-3]"
   ]
  },
  {
   "cell_type": "code",
   "execution_count": 71,
   "id": "b8aee512",
   "metadata": {},
   "outputs": [
    {
     "data": {
      "text/plain": [
       "[99, 43, 54]"
      ]
     },
     "execution_count": 71,
     "metadata": {},
     "output_type": "execute_result"
    }
   ],
   "source": [
    "perm[-2::-3]"
   ]
  },
  {
   "cell_type": "code",
   "execution_count": 72,
   "id": "235d9e36",
   "metadata": {},
   "outputs": [
    {
     "data": {
      "text/plain": [
       "[12, 32, 54, 32, 12, 43, 21, 43, 99, 87]"
      ]
     },
     "execution_count": 72,
     "metadata": {},
     "output_type": "execute_result"
    }
   ],
   "source": [
    "perm"
   ]
  },
  {
   "cell_type": "code",
   "execution_count": 73,
   "id": "cfdec7e1",
   "metadata": {},
   "outputs": [
    {
     "data": {
      "text/plain": [
       "[34,\n",
       " 34,\n",
       " 23,\n",
       " 'saturation',\n",
       " True,\n",
       " 6.7,\n",
       " [34, 565, 74, [98695, 545, 'ghery', ['getme'], 345, 34], 3, 'str'],\n",
       " 'jfdj']"
      ]
     },
     "execution_count": 73,
     "metadata": {},
     "output_type": "execute_result"
    }
   ],
   "source": [
    "li"
   ]
  },
  {
   "cell_type": "code",
   "execution_count": 74,
   "id": "13063c21",
   "metadata": {},
   "outputs": [
    {
     "data": {
      "text/plain": [
       "[34, 565, 74, [98695, 545, 'ghery', ['getme'], 345, 34], 3, 'str']"
      ]
     },
     "execution_count": 74,
     "metadata": {},
     "output_type": "execute_result"
    }
   ],
   "source": [
    "li[6]"
   ]
  },
  {
   "cell_type": "code",
   "execution_count": 75,
   "id": "1624e023",
   "metadata": {},
   "outputs": [
    {
     "data": {
      "text/plain": [
       "[98695, 545, 'ghery', ['getme'], 345, 34]"
      ]
     },
     "execution_count": 75,
     "metadata": {},
     "output_type": "execute_result"
    }
   ],
   "source": [
    "li[6][3]"
   ]
  },
  {
   "cell_type": "code",
   "execution_count": 84,
   "id": "c092e9a4",
   "metadata": {},
   "outputs": [
    {
     "data": {
      "text/plain": [
       "['ghery', 98695]"
      ]
     },
     "execution_count": 84,
     "metadata": {},
     "output_type": "execute_result"
    }
   ],
   "source": [
    "li[6][3][2::-2]"
   ]
  },
  {
   "cell_type": "code",
   "execution_count": 83,
   "id": "84548966",
   "metadata": {},
   "outputs": [
    {
     "data": {
      "text/plain": [
       "['ghery', 98695]"
      ]
     },
     "execution_count": 83,
     "metadata": {},
     "output_type": "execute_result"
    }
   ],
   "source": [
    "li[6][3][-4::-2]"
   ]
  },
  {
   "cell_type": "code",
   "execution_count": null,
   "id": "7bfc6b48",
   "metadata": {},
   "outputs": [],
   "source": []
  }
 ],
 "metadata": {
  "kernelspec": {
   "display_name": "Python 3 (ipykernel)",
   "language": "python",
   "name": "python3"
  },
  "language_info": {
   "codemirror_mode": {
    "name": "ipython",
    "version": 3
   },
   "file_extension": ".py",
   "mimetype": "text/x-python",
   "name": "python",
   "nbconvert_exporter": "python",
   "pygments_lexer": "ipython3",
   "version": "3.11.4"
  }
 },
 "nbformat": 4,
 "nbformat_minor": 5
}
